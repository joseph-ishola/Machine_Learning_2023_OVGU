{
  "nbformat": 4,
  "nbformat_minor": 0,
  "metadata": {
    "colab": {
      "provenance": []
    },
    "kernelspec": {
      "name": "python3",
      "display_name": "Python 3"
    },
    "language_info": {
      "name": "python"
    }
  },
  "cells": [
    {
      "cell_type": "markdown",
      "metadata": {
        "id": "-b9JinxemTPw"
      },
      "source": [
        "# Task Description : \n",
        "Develop a Deep Neural Network model to predict the **PE** for the given **input data** . Please keep in mind the following:\n",
        "\n",
        "\n",
        "*   1 bonus point - **(functioning model)** and 1 bonus point - **(top 5 models)**.\n",
        "*   Submission Deadline is **June 9, 23:59**.\n",
        "*   Please submit only .ipynb file for consistency.\n",
        "*   Do not copy code from other students otherwise you will not be graded.\n",
        "*   Try to write the code cleanly and only write what is asked in the final submission file.\n",
        "\n",
        "\n",
        "\n"
      ]
    },
    {
      "cell_type": "markdown",
      "source": [
        "*We expect you to upload  ('one' python file with name ***Exercise_4_Task_yourname***  and 'one' model.h5 with name **your_name_final_model.h5** file which contains your final trained model) on elearning in exactly the same format as explained below.*"
      ],
      "metadata": {
        "id": "INUiQtqDpIG1"
      }
    },
    {
      "cell_type": "markdown",
      "source": [
        "**Special Note:** \n",
        "\n",
        "You need to model DNN using  **only pytorch library**. In the class we modelled DNN using tensorflow.keras library. Please use this [link](https://github.com/edgarsmdn/MLCE_book/blob/main/04_DNN_VLE.ipynb) to understand how to model DNN using pytorch and also to know which libraries to import."
      ],
      "metadata": {
        "id": "_svvNLWDTWhn"
      }
    },
    {
      "cell_type": "code",
      "execution_count": 74,
      "metadata": {
        "id": "59BJgYDfklk8"
      },
      "outputs": [],
      "source": [
        "#import all required libraries here\n",
        "import numpy as np\n",
        "import pandas as pd\n",
        "import matplotlib.pyplot as plt\n",
        "from tqdm.notebook import tqdm\n",
        "\n",
        "import torch\n",
        "import torch.nn as nn\n",
        "import torch.optim as optim\n",
        "from torch.utils.data import DataLoader, TensorDataset\n",
        "from sklearn.base import BaseEstimator\n",
        "from sklearn.metrics import make_scorer, r2_score\n",
        "from sklearn.metrics import mean_absolute_percentage_error as MAPE\n",
        "from sklearn.model_selection import GridSearchCV, train_test_split\n",
        "from sklearn.preprocessing import StandardScaler"
      ]
    },
    {
      "cell_type": "code",
      "source": [
        "# upload data here (use the data provided on github under the task description)\n",
        "df = pd.read_csv('https://raw.githubusercontent.com/carolineganzer/OVGU_MLCE_2023/main/Exercise_4_bonus_task/CCPP_training_data.csv')\n",
        "df.head()"
      ],
      "metadata": {
        "id": "0bOq1KP2kvlq",
        "colab": {
          "base_uri": "https://localhost:8080/",
          "height": 206
        },
        "outputId": "77de9c8a-19d9-4525-e06e-4ae0bdeaf3f1"
      },
      "execution_count": 75,
      "outputs": [
        {
          "output_type": "execute_result",
          "data": {
            "text/plain": [
              "      AT      V       AP     RH      PE\n",
              "0  14.12  41.39  1018.73  76.51  472.88\n",
              "1  20.10  58.95  1018.46  80.87  446.70\n",
              "2  30.53  65.18  1012.69  41.85  437.89\n",
              "3  12.24  44.92  1023.74  88.21  473.26\n",
              "4  31.16  64.96  1001.71  44.85  425.82"
            ],
            "text/html": [
              "\n",
              "  <div id=\"df-d4b8d975-51de-446d-8a8d-3369f981fa05\">\n",
              "    <div class=\"colab-df-container\">\n",
              "      <div>\n",
              "<style scoped>\n",
              "    .dataframe tbody tr th:only-of-type {\n",
              "        vertical-align: middle;\n",
              "    }\n",
              "\n",
              "    .dataframe tbody tr th {\n",
              "        vertical-align: top;\n",
              "    }\n",
              "\n",
              "    .dataframe thead th {\n",
              "        text-align: right;\n",
              "    }\n",
              "</style>\n",
              "<table border=\"1\" class=\"dataframe\">\n",
              "  <thead>\n",
              "    <tr style=\"text-align: right;\">\n",
              "      <th></th>\n",
              "      <th>AT</th>\n",
              "      <th>V</th>\n",
              "      <th>AP</th>\n",
              "      <th>RH</th>\n",
              "      <th>PE</th>\n",
              "    </tr>\n",
              "  </thead>\n",
              "  <tbody>\n",
              "    <tr>\n",
              "      <th>0</th>\n",
              "      <td>14.12</td>\n",
              "      <td>41.39</td>\n",
              "      <td>1018.73</td>\n",
              "      <td>76.51</td>\n",
              "      <td>472.88</td>\n",
              "    </tr>\n",
              "    <tr>\n",
              "      <th>1</th>\n",
              "      <td>20.10</td>\n",
              "      <td>58.95</td>\n",
              "      <td>1018.46</td>\n",
              "      <td>80.87</td>\n",
              "      <td>446.70</td>\n",
              "    </tr>\n",
              "    <tr>\n",
              "      <th>2</th>\n",
              "      <td>30.53</td>\n",
              "      <td>65.18</td>\n",
              "      <td>1012.69</td>\n",
              "      <td>41.85</td>\n",
              "      <td>437.89</td>\n",
              "    </tr>\n",
              "    <tr>\n",
              "      <th>3</th>\n",
              "      <td>12.24</td>\n",
              "      <td>44.92</td>\n",
              "      <td>1023.74</td>\n",
              "      <td>88.21</td>\n",
              "      <td>473.26</td>\n",
              "    </tr>\n",
              "    <tr>\n",
              "      <th>4</th>\n",
              "      <td>31.16</td>\n",
              "      <td>64.96</td>\n",
              "      <td>1001.71</td>\n",
              "      <td>44.85</td>\n",
              "      <td>425.82</td>\n",
              "    </tr>\n",
              "  </tbody>\n",
              "</table>\n",
              "</div>\n",
              "      <button class=\"colab-df-convert\" onclick=\"convertToInteractive('df-d4b8d975-51de-446d-8a8d-3369f981fa05')\"\n",
              "              title=\"Convert this dataframe to an interactive table.\"\n",
              "              style=\"display:none;\">\n",
              "        \n",
              "  <svg xmlns=\"http://www.w3.org/2000/svg\" height=\"24px\"viewBox=\"0 0 24 24\"\n",
              "       width=\"24px\">\n",
              "    <path d=\"M0 0h24v24H0V0z\" fill=\"none\"/>\n",
              "    <path d=\"M18.56 5.44l.94 2.06.94-2.06 2.06-.94-2.06-.94-.94-2.06-.94 2.06-2.06.94zm-11 1L8.5 8.5l.94-2.06 2.06-.94-2.06-.94L8.5 2.5l-.94 2.06-2.06.94zm10 10l.94 2.06.94-2.06 2.06-.94-2.06-.94-.94-2.06-.94 2.06-2.06.94z\"/><path d=\"M17.41 7.96l-1.37-1.37c-.4-.4-.92-.59-1.43-.59-.52 0-1.04.2-1.43.59L10.3 9.45l-7.72 7.72c-.78.78-.78 2.05 0 2.83L4 21.41c.39.39.9.59 1.41.59.51 0 1.02-.2 1.41-.59l7.78-7.78 2.81-2.81c.8-.78.8-2.07 0-2.86zM5.41 20L4 18.59l7.72-7.72 1.47 1.35L5.41 20z\"/>\n",
              "  </svg>\n",
              "      </button>\n",
              "      \n",
              "  <style>\n",
              "    .colab-df-container {\n",
              "      display:flex;\n",
              "      flex-wrap:wrap;\n",
              "      gap: 12px;\n",
              "    }\n",
              "\n",
              "    .colab-df-convert {\n",
              "      background-color: #E8F0FE;\n",
              "      border: none;\n",
              "      border-radius: 50%;\n",
              "      cursor: pointer;\n",
              "      display: none;\n",
              "      fill: #1967D2;\n",
              "      height: 32px;\n",
              "      padding: 0 0 0 0;\n",
              "      width: 32px;\n",
              "    }\n",
              "\n",
              "    .colab-df-convert:hover {\n",
              "      background-color: #E2EBFA;\n",
              "      box-shadow: 0px 1px 2px rgba(60, 64, 67, 0.3), 0px 1px 3px 1px rgba(60, 64, 67, 0.15);\n",
              "      fill: #174EA6;\n",
              "    }\n",
              "\n",
              "    [theme=dark] .colab-df-convert {\n",
              "      background-color: #3B4455;\n",
              "      fill: #D2E3FC;\n",
              "    }\n",
              "\n",
              "    [theme=dark] .colab-df-convert:hover {\n",
              "      background-color: #434B5C;\n",
              "      box-shadow: 0px 1px 3px 1px rgba(0, 0, 0, 0.15);\n",
              "      filter: drop-shadow(0px 1px 2px rgba(0, 0, 0, 0.3));\n",
              "      fill: #FFFFFF;\n",
              "    }\n",
              "  </style>\n",
              "\n",
              "      <script>\n",
              "        const buttonEl =\n",
              "          document.querySelector('#df-d4b8d975-51de-446d-8a8d-3369f981fa05 button.colab-df-convert');\n",
              "        buttonEl.style.display =\n",
              "          google.colab.kernel.accessAllowed ? 'block' : 'none';\n",
              "\n",
              "        async function convertToInteractive(key) {\n",
              "          const element = document.querySelector('#df-d4b8d975-51de-446d-8a8d-3369f981fa05');\n",
              "          const dataTable =\n",
              "            await google.colab.kernel.invokeFunction('convertToInteractive',\n",
              "                                                     [key], {});\n",
              "          if (!dataTable) return;\n",
              "\n",
              "          const docLinkHtml = 'Like what you see? Visit the ' +\n",
              "            '<a target=\"_blank\" href=https://colab.research.google.com/notebooks/data_table.ipynb>data table notebook</a>'\n",
              "            + ' to learn more about interactive tables.';\n",
              "          element.innerHTML = '';\n",
              "          dataTable['output_type'] = 'display_data';\n",
              "          await google.colab.output.renderOutput(dataTable, element);\n",
              "          const docLink = document.createElement('div');\n",
              "          docLink.innerHTML = docLinkHtml;\n",
              "          element.appendChild(docLink);\n",
              "        }\n",
              "      </script>\n",
              "    </div>\n",
              "  </div>\n",
              "  "
            ]
          },
          "metadata": {},
          "execution_count": 75
        }
      ]
    },
    {
      "cell_type": "code",
      "source": [
        "# perform data cleaning if required and define corresponding variables for [inputs /features]  and [corresponding output (Experimental values)]\n",
        "# Please note: Input/Features are AT,V,AP,RH and Output is PE "
      ],
      "metadata": {
        "id": "JsvpNwFtlgBk"
      },
      "execution_count": 76,
      "outputs": []
    },
    {
      "cell_type": "code",
      "source": [
        "df.describe()"
      ],
      "metadata": {
        "colab": {
          "base_uri": "https://localhost:8080/",
          "height": 300
        },
        "id": "V2MZBfO3Ozj4",
        "outputId": "50621ac3-36e5-4f58-db32-911968fbe37f"
      },
      "execution_count": 77,
      "outputs": [
        {
          "output_type": "execute_result",
          "data": {
            "text/plain": [
              "                AT            V           AP           RH           PE\n",
              "count  7654.000000  7654.000000  7654.000000  7654.000000  7654.000000\n",
              "mean     19.683840    54.300686  1013.256194    73.247823   454.347068\n",
              "std       7.451376    12.703670     5.915586    14.654963    17.034607\n",
              "min       1.810000    25.360000   992.890000    25.560000   420.260000\n",
              "25%      13.550000    41.670000  1009.112500    63.212500   439.762500\n",
              "50%      20.400000    52.300000  1012.990000    74.905000   451.515000\n",
              "75%      25.720000    66.510000  1017.260000    84.757500   468.445000\n",
              "max      37.110000    80.250000  1033.300000   100.160000   495.760000"
            ],
            "text/html": [
              "\n",
              "  <div id=\"df-0d15dd4b-19b9-43fe-b0d6-d8e5056f25b2\">\n",
              "    <div class=\"colab-df-container\">\n",
              "      <div>\n",
              "<style scoped>\n",
              "    .dataframe tbody tr th:only-of-type {\n",
              "        vertical-align: middle;\n",
              "    }\n",
              "\n",
              "    .dataframe tbody tr th {\n",
              "        vertical-align: top;\n",
              "    }\n",
              "\n",
              "    .dataframe thead th {\n",
              "        text-align: right;\n",
              "    }\n",
              "</style>\n",
              "<table border=\"1\" class=\"dataframe\">\n",
              "  <thead>\n",
              "    <tr style=\"text-align: right;\">\n",
              "      <th></th>\n",
              "      <th>AT</th>\n",
              "      <th>V</th>\n",
              "      <th>AP</th>\n",
              "      <th>RH</th>\n",
              "      <th>PE</th>\n",
              "    </tr>\n",
              "  </thead>\n",
              "  <tbody>\n",
              "    <tr>\n",
              "      <th>count</th>\n",
              "      <td>7654.000000</td>\n",
              "      <td>7654.000000</td>\n",
              "      <td>7654.000000</td>\n",
              "      <td>7654.000000</td>\n",
              "      <td>7654.000000</td>\n",
              "    </tr>\n",
              "    <tr>\n",
              "      <th>mean</th>\n",
              "      <td>19.683840</td>\n",
              "      <td>54.300686</td>\n",
              "      <td>1013.256194</td>\n",
              "      <td>73.247823</td>\n",
              "      <td>454.347068</td>\n",
              "    </tr>\n",
              "    <tr>\n",
              "      <th>std</th>\n",
              "      <td>7.451376</td>\n",
              "      <td>12.703670</td>\n",
              "      <td>5.915586</td>\n",
              "      <td>14.654963</td>\n",
              "      <td>17.034607</td>\n",
              "    </tr>\n",
              "    <tr>\n",
              "      <th>min</th>\n",
              "      <td>1.810000</td>\n",
              "      <td>25.360000</td>\n",
              "      <td>992.890000</td>\n",
              "      <td>25.560000</td>\n",
              "      <td>420.260000</td>\n",
              "    </tr>\n",
              "    <tr>\n",
              "      <th>25%</th>\n",
              "      <td>13.550000</td>\n",
              "      <td>41.670000</td>\n",
              "      <td>1009.112500</td>\n",
              "      <td>63.212500</td>\n",
              "      <td>439.762500</td>\n",
              "    </tr>\n",
              "    <tr>\n",
              "      <th>50%</th>\n",
              "      <td>20.400000</td>\n",
              "      <td>52.300000</td>\n",
              "      <td>1012.990000</td>\n",
              "      <td>74.905000</td>\n",
              "      <td>451.515000</td>\n",
              "    </tr>\n",
              "    <tr>\n",
              "      <th>75%</th>\n",
              "      <td>25.720000</td>\n",
              "      <td>66.510000</td>\n",
              "      <td>1017.260000</td>\n",
              "      <td>84.757500</td>\n",
              "      <td>468.445000</td>\n",
              "    </tr>\n",
              "    <tr>\n",
              "      <th>max</th>\n",
              "      <td>37.110000</td>\n",
              "      <td>80.250000</td>\n",
              "      <td>1033.300000</td>\n",
              "      <td>100.160000</td>\n",
              "      <td>495.760000</td>\n",
              "    </tr>\n",
              "  </tbody>\n",
              "</table>\n",
              "</div>\n",
              "      <button class=\"colab-df-convert\" onclick=\"convertToInteractive('df-0d15dd4b-19b9-43fe-b0d6-d8e5056f25b2')\"\n",
              "              title=\"Convert this dataframe to an interactive table.\"\n",
              "              style=\"display:none;\">\n",
              "        \n",
              "  <svg xmlns=\"http://www.w3.org/2000/svg\" height=\"24px\"viewBox=\"0 0 24 24\"\n",
              "       width=\"24px\">\n",
              "    <path d=\"M0 0h24v24H0V0z\" fill=\"none\"/>\n",
              "    <path d=\"M18.56 5.44l.94 2.06.94-2.06 2.06-.94-2.06-.94-.94-2.06-.94 2.06-2.06.94zm-11 1L8.5 8.5l.94-2.06 2.06-.94-2.06-.94L8.5 2.5l-.94 2.06-2.06.94zm10 10l.94 2.06.94-2.06 2.06-.94-2.06-.94-.94-2.06-.94 2.06-2.06.94z\"/><path d=\"M17.41 7.96l-1.37-1.37c-.4-.4-.92-.59-1.43-.59-.52 0-1.04.2-1.43.59L10.3 9.45l-7.72 7.72c-.78.78-.78 2.05 0 2.83L4 21.41c.39.39.9.59 1.41.59.51 0 1.02-.2 1.41-.59l7.78-7.78 2.81-2.81c.8-.78.8-2.07 0-2.86zM5.41 20L4 18.59l7.72-7.72 1.47 1.35L5.41 20z\"/>\n",
              "  </svg>\n",
              "      </button>\n",
              "      \n",
              "  <style>\n",
              "    .colab-df-container {\n",
              "      display:flex;\n",
              "      flex-wrap:wrap;\n",
              "      gap: 12px;\n",
              "    }\n",
              "\n",
              "    .colab-df-convert {\n",
              "      background-color: #E8F0FE;\n",
              "      border: none;\n",
              "      border-radius: 50%;\n",
              "      cursor: pointer;\n",
              "      display: none;\n",
              "      fill: #1967D2;\n",
              "      height: 32px;\n",
              "      padding: 0 0 0 0;\n",
              "      width: 32px;\n",
              "    }\n",
              "\n",
              "    .colab-df-convert:hover {\n",
              "      background-color: #E2EBFA;\n",
              "      box-shadow: 0px 1px 2px rgba(60, 64, 67, 0.3), 0px 1px 3px 1px rgba(60, 64, 67, 0.15);\n",
              "      fill: #174EA6;\n",
              "    }\n",
              "\n",
              "    [theme=dark] .colab-df-convert {\n",
              "      background-color: #3B4455;\n",
              "      fill: #D2E3FC;\n",
              "    }\n",
              "\n",
              "    [theme=dark] .colab-df-convert:hover {\n",
              "      background-color: #434B5C;\n",
              "      box-shadow: 0px 1px 3px 1px rgba(0, 0, 0, 0.15);\n",
              "      filter: drop-shadow(0px 1px 2px rgba(0, 0, 0, 0.3));\n",
              "      fill: #FFFFFF;\n",
              "    }\n",
              "  </style>\n",
              "\n",
              "      <script>\n",
              "        const buttonEl =\n",
              "          document.querySelector('#df-0d15dd4b-19b9-43fe-b0d6-d8e5056f25b2 button.colab-df-convert');\n",
              "        buttonEl.style.display =\n",
              "          google.colab.kernel.accessAllowed ? 'block' : 'none';\n",
              "\n",
              "        async function convertToInteractive(key) {\n",
              "          const element = document.querySelector('#df-0d15dd4b-19b9-43fe-b0d6-d8e5056f25b2');\n",
              "          const dataTable =\n",
              "            await google.colab.kernel.invokeFunction('convertToInteractive',\n",
              "                                                     [key], {});\n",
              "          if (!dataTable) return;\n",
              "\n",
              "          const docLinkHtml = 'Like what you see? Visit the ' +\n",
              "            '<a target=\"_blank\" href=https://colab.research.google.com/notebooks/data_table.ipynb>data table notebook</a>'\n",
              "            + ' to learn more about interactive tables.';\n",
              "          element.innerHTML = '';\n",
              "          dataTable['output_type'] = 'display_data';\n",
              "          await google.colab.output.renderOutput(dataTable, element);\n",
              "          const docLink = document.createElement('div');\n",
              "          docLink.innerHTML = docLinkHtml;\n",
              "          element.appendChild(docLink);\n",
              "        }\n",
              "      </script>\n",
              "    </div>\n",
              "  </div>\n",
              "  "
            ]
          },
          "metadata": {},
          "execution_count": 77
        }
      ]
    },
    {
      "cell_type": "code",
      "source": [
        "df = df[(df['AT'].notna() & df['V'].notna() & df['AP'].notna() & df['RH'].notna() & df['PE'].notna())]\n",
        "df.shape"
      ],
      "metadata": {
        "colab": {
          "base_uri": "https://localhost:8080/"
        },
        "id": "1kSdgQuaO6t8",
        "outputId": "addafde2-de6b-4e27-c237-8e7b7ec65b0c"
      },
      "execution_count": 78,
      "outputs": [
        {
          "output_type": "execute_result",
          "data": {
            "text/plain": [
              "(7654, 5)"
            ]
          },
          "metadata": {},
          "execution_count": 78
        }
      ]
    },
    {
      "cell_type": "code",
      "source": [
        "df = np.array(df)\n",
        "#Input\n",
        "X = df[:,0:4]\n",
        "\n",
        "#output\n",
        "y = df[:,4].reshape(-1,1)\n",
        "y.min(),y.max()"
      ],
      "metadata": {
        "colab": {
          "base_uri": "https://localhost:8080/"
        },
        "id": "GnMSmwNbO80H",
        "outputId": "95342677-8bfc-4191-ffd0-32acdd726fcf"
      },
      "execution_count": 79,
      "outputs": [
        {
          "output_type": "execute_result",
          "data": {
            "text/plain": [
              "(420.26, 495.76)"
            ]
          },
          "metadata": {},
          "execution_count": 79
        }
      ]
    },
    {
      "cell_type": "code",
      "source": [
        "# Define the Feed-forward Neural Network model using PyTorch\n",
        "class FFNNModel(nn.Module):\n",
        "    def __init__(self, layer_sizes, regularization_value):\n",
        "        super(FFNNModel, self).__init__()\n",
        "        self.layer_sizes = layer_sizes if layer_sizes else [1]  # Assign a default value if layer_sizes is empty\n",
        "        \n",
        "        self.layers = nn.ModuleList()\n",
        "        self.layers.append(nn.Linear(4, self.layer_sizes[0]))\n",
        "        \n",
        "        for i in range(1, len(self.layer_sizes)):\n",
        "            self.layers.append(nn.Linear(self.layer_sizes[i-1], self.layer_sizes[i]))\n",
        "        \n",
        "        self.output_layer = nn.Linear(self.layer_sizes[-1], 1)\n",
        "        \n",
        "        self.relu = nn.ReLU()\n",
        "        self.regularization = nn.L1Loss(reduction='mean')\n",
        "        self.regularization_value = regularization_value\n",
        "\n",
        "    def forward(self, x):\n",
        "        for layer in self.layers:\n",
        "            x = self.relu(layer(x))\n",
        "        \n",
        "        output = self.output_layer(x)\n",
        "        return output\n",
        "    \n",
        "    def get_params(self, deep=True):\n",
        "        return {\n",
        "            'layer_sizes': self.layer_sizes,\n",
        "            'regularization_value': self.regularization_value\n",
        "        }\n",
        "\n",
        "    def set_params(self, **params):\n",
        "        if 'layer_sizes' in params:\n",
        "            self.layer_sizes = params['layer_sizes']\n",
        "        \n",
        "        if 'regularization_value' in params:\n",
        "            self.regularization_value = params['regularization_value']\n",
        "\n",
        "        self.layers = nn.ModuleList()\n",
        "        self.layers.append(nn.Linear(4, self.layer_sizes[0]))\n",
        "        \n",
        "        for i in range(1, len(self.layer_sizes)):\n",
        "            self.layers.append(nn.Linear(self.layer_sizes[i-1], self.layer_sizes[i]))\n",
        "        \n",
        "        self.output_layer = nn.Linear(self.layer_sizes[-1], 1)"
      ],
      "metadata": {
        "id": "OOOCHj5nPIdj"
      },
      "execution_count": 80,
      "outputs": []
    },
    {
      "cell_type": "code",
      "source": [
        "# Custom estimator class for PyTorch model\n",
        "class PyTorchEstimator(BaseEstimator):\n",
        "    def __init__(self, model, epochs=25, batch_size=50, learning_rate=0.05):\n",
        "        self.model = model\n",
        "        self.epochs = epochs\n",
        "        self.batch_size = batch_size\n",
        "        self.learning_rate = learning_rate\n",
        "\n",
        "    def fit(self, X, y):\n",
        "        optimizer = optim.Adam(self.model.parameters(), lr=self.learning_rate)\n",
        "        criterion = nn.MSELoss()\n",
        "\n",
        "        dataset = TensorDataset(X, y)\n",
        "        dataloader = DataLoader(dataset, batch_size=self.batch_size, shuffle=True)\n",
        "\n",
        "        for epoch in range(self.epochs):\n",
        "            for inputs, targets in dataloader:\n",
        "                optimizer.zero_grad()\n",
        "                outputs = self.model(inputs)\n",
        "                loss = criterion(outputs, targets)\n",
        "                loss.backward()\n",
        "                optimizer.step()\n",
        "\n",
        "    def predict(self, X):\n",
        "        with torch.no_grad():\n",
        "            return self.model(X).detach().numpy()"
      ],
      "metadata": {
        "id": "kSt0-Q4bPRb7"
      },
      "execution_count": 81,
      "outputs": []
    },
    {
      "cell_type": "code",
      "source": [
        "# Load and preprocess your data\n",
        "# ...\n",
        "\n",
        "# Scale the input data\n",
        "X_scaler = StandardScaler()\n",
        "X_scaled = X_scaler.fit_transform(X)\n",
        "\n",
        "# Convert the data to PyTorch tensors\n",
        "X_tensor = torch.Tensor(X_scaled)\n",
        "y_tensor = torch.Tensor(y)"
      ],
      "metadata": {
        "id": "oYV0dy4XQMC6"
      },
      "execution_count": 82,
      "outputs": []
    },
    {
      "cell_type": "code",
      "source": [
        "# do cross validation using GridsearchCv as done in the lecture"
      ],
      "metadata": {
        "id": "oOwPDjRKk3TC"
      },
      "execution_count": 83,
      "outputs": []
    },
    {
      "cell_type": "code",
      "source": [
        "# Split the data into train and validation sets\n",
        "X_train, X_val, y_train, y_val = train_test_split(X_tensor, y_tensor, test_size=0.2, random_state=100)\n",
        "\n",
        "\n",
        "# Define the PyTorch model\n",
        "model = FFNNModel(layer_sizes=[], regularization_value=0.001)\n",
        "\n",
        "# Create the PyTorch estimator\n",
        "estimator = PyTorchEstimator(model=model, epochs=25, batch_size=50, learning_rate=0.05)\n",
        "\n",
        "# Define the parameter grid for GridSearchCV\n",
        "param_grid = {\n",
        "    'model__layer_sizes': [[1,1],[2,2],[3,3],[4,4],[10],[10, 20],[10, 20, 30]],\n",
        "    'model__regularization_value': [0.001],\n",
        "    'learning_rate': [0.05],\n",
        "    'epochs': [25],\n",
        "    'batch_size': [50]\n",
        "}\n",
        "\n",
        "# Create the GridSearchCV object\n",
        "grid_search = GridSearchCV(estimator, param_grid, scoring=make_scorer(r2_score), cv=3)\n",
        "\n",
        "# Fit the model with GridSearchCV\n",
        "grid_search.fit(X_train, y_train)\n",
        "\n",
        "# Get the best model and its hyperparameters\n",
        "best_model = grid_search.best_estimator_.model\n",
        "best_hyperparameters = grid_search.best_params_\n",
        "\n",
        "print('Best model hyperparameters:', best_hyperparameters)"
      ],
      "metadata": {
        "colab": {
          "base_uri": "https://localhost:8080/"
        },
        "id": "aD1X5FYDRf-I",
        "outputId": "606067c6-463d-4fd7-d527-071d653d72a7"
      },
      "execution_count": 84,
      "outputs": [
        {
          "output_type": "stream",
          "name": "stdout",
          "text": [
            "Best model hyperparameters: {'batch_size': 50, 'epochs': 25, 'learning_rate': 0.05, 'model__layer_sizes': [10], 'model__regularization_value': 0.001}\n"
          ]
        }
      ]
    },
    {
      "cell_type": "code",
      "source": [
        "# Print model summary\n",
        "def print_model_summary(model):\n",
        "    print(model)\n",
        "    print(\"Model Summary:\")\n",
        "    print(\"==============\")\n",
        "    print(\"Layer-wise Parameters:\")\n",
        "    for name, param in model.named_parameters():\n",
        "        if param.requires_grad:\n",
        "            print(f\"Layer: {name} | Size: {param.size()}\")\n",
        "    print(\"Total Trainable Parameters: \", sum(p.numel() for p in model.parameters() if p.requires_grad))\n",
        "\n",
        "\n",
        "print_model_summary(best_model)"
      ],
      "metadata": {
        "id": "zEjv0PC_ZXXz"
      },
      "execution_count": null,
      "outputs": []
    },
    {
      "cell_type": "code",
      "source": [
        "# Convert the test data to PyTorch tensors\n",
        "X_test_tensor = torch.Tensor(X_val)\n",
        "\n",
        "# Predict on the test set\n",
        "y_test_pred = best_model(X_test_tensor).detach().numpy()\n",
        "\n",
        "# Plot the results\n",
        "plt.figure()\n",
        "plt.plot(y_val, y_test_pred, '*')\n",
        "plt.plot([410, 500], [410, 500], ls=\"--\", c=\".3\")\n",
        "plt.xlabel('y_test')\n",
        "plt.ylabel('y_test_pred')\n",
        "plt.show()\n",
        "\n",
        "# Calculate R2 score on the test set\n",
        "r2 = r2_score(y_val, y_test_pred)\n",
        "print('R2:', r2)\n",
        "print('MAPE:', MAPE(y_val,y_test_pred))"
      ],
      "metadata": {
        "colab": {
          "base_uri": "https://localhost:8080/",
          "height": 484
        },
        "id": "Pl6TXr1oZllp",
        "outputId": "bb49c78f-54a0-48a0-b075-57a576441a11"
      },
      "execution_count": 86,
      "outputs": [
        {
          "output_type": "display_data",
          "data": {
            "text/plain": [
              "<Figure size 640x480 with 1 Axes>"
            ],
            "image/png": "[encoded data removed]"
          },
          "metadata": {}
        },
        {
          "output_type": "stream",
          "name": "stdout",
          "text": [
            "R2: 0.9344032470152323\n",
            "MAPE: 0.007669261\n"
          ]
        }
      ]
    },
    {
      "cell_type": "code",
      "source": [
        "# train your final model using all the available data points with optimized hyperparamters (found in best model of GridsearchCv)"
      ],
      "metadata": {
        "id": "ksVELFEHmzs0"
      },
      "execution_count": 87,
      "outputs": []
    },
    {
      "cell_type": "code",
      "source": [
        "# Train the final model using all available data and optimized hyperparameters\n",
        "final_model = PyTorchEstimator(model=best_model, epochs=best_hyperparameters['epochs'],\n",
        "                               batch_size=best_hyperparameters['batch_size'],\n",
        "                               learning_rate=best_hyperparameters['learning_rate'])\n",
        "\n",
        "final_model.fit(X_tensor, y_tensor)"
      ],
      "metadata": {
        "id": "NHp0V9l1fReY"
      },
      "execution_count": 88,
      "outputs": []
    },
    {
      "cell_type": "code",
      "source": [
        "# write code to save your final trained model and download the saved file with name 'your_name_final_model.h5' to submit along with this python file"
      ],
      "metadata": {
        "id": "7A7_D8OwVQF3"
      },
      "execution_count": 89,
      "outputs": []
    },
    {
      "cell_type": "code",
      "source": [
        "# Save the final trained model\n",
        "torch.save(final_model.model.state_dict(), 'Joseph_final_model.h5')"
      ],
      "metadata": {
        "id": "utNKyC2rgOAB"
      },
      "execution_count": 95,
      "outputs": []
    },
    {
      "cell_type": "code",
      "source": [
        "# Download the saved model file\n",
        "\n",
        "from google.colab import files\n",
        "\n",
        "files.download('Joseph_final_model.h5')"
      ],
      "metadata": {
        "colab": {
          "base_uri": "https://localhost:8080/",
          "height": 17
        },
        "id": "PXvafzLig0Ra",
        "outputId": "517da03e-5ca8-4500-ea3e-0aff77cb08aa"
      },
      "execution_count": 96,
      "outputs": [
        {
          "output_type": "display_data",
          "data": {
            "text/plain": [
              "<IPython.core.display.Javascript object>"
            ],
            "application/javascript": [
              "\n",
              "    async function download(id, filename, size) {\n",
              "      if (!google.colab.kernel.accessAllowed) {\n",
              "        return;\n",
              "      }\n",
              "      const div = document.createElement('div');\n",
              "      const label = document.createElement('label');\n",
              "      label.textContent = `Downloading \"${filename}\": `;\n",
              "      div.appendChild(label);\n",
              "      const progress = document.createElement('progress');\n",
              "      progress.max = size;\n",
              "      div.appendChild(progress);\n",
              "      document.body.appendChild(div);\n",
              "\n",
              "      const buffers = [];\n",
              "      let downloaded = 0;\n",
              "\n",
              "      const channel = await google.colab.kernel.comms.open(id);\n",
              "      // Send a message to notify the kernel that we're ready.\n",
              "      channel.send({})\n",
              "\n",
              "      for await (const message of channel.messages) {\n",
              "        // Send a message to notify the kernel that we're ready.\n",
              "        channel.send({})\n",
              "        if (message.buffers) {\n",
              "          for (const buffer of message.buffers) {\n",
              "            buffers.push(buffer);\n",
              "            downloaded += buffer.byteLength;\n",
              "            progress.value = downloaded;\n",
              "          }\n",
              "        }\n",
              "      }\n",
              "      const blob = new Blob(buffers, {type: 'application/binary'});\n",
              "      const a = document.createElement('a');\n",
              "      a.href = window.URL.createObjectURL(blob);\n",
              "      a.download = filename;\n",
              "      div.appendChild(a);\n",
              "      a.click();\n",
              "      div.remove();\n",
              "    }\n",
              "  "
            ]
          },
          "metadata": {}
        },
        {
          "output_type": "display_data",
          "data": {
            "text/plain": [
              "<IPython.core.display.Javascript object>"
            ],
            "application/javascript": [
              "download(\"download_685252b6-65bf-4c2e-9354-14bd59aece5d\", \"Joseph_final_model.h5\", 1953)"
            ]
          },
          "metadata": {}
        }
      ]
    },
    {
      "cell_type": "code",
      "source": [
        "# At last write the final function in exactly the same format as taught in class."
      ],
      "metadata": {
        "id": "S1IRqPJ7FqHm"
      },
      "execution_count": 98,
      "outputs": []
    },
    {
      "cell_type": "code",
      "source": [
        "def Joseph_model(df):\n",
        "    X = df[:, 0:4]\n",
        "    y = df[:, 4].reshape(-1, 1)\n",
        "    \n",
        "    # Scale the input data\n",
        "    X_scaler = StandardScaler()\n",
        "    X_scaled = X_scaler.fit_transform(X)\n",
        "    \n",
        "    # Load the trained model\n",
        "    model = torch.load('/content/Joseph_final_model.h5')\n",
        "    \n",
        "    # Convert the data to PyTorch tensors\n",
        "    X_tensor = torch.Tensor(X_scaled)\n",
        "    \n",
        "    # Make predictions using the trained model\n",
        "    with torch.no_grad():\n",
        "        y_pred = model(X_tensor).numpy()\n",
        "    \n",
        "    # Plot the results\n",
        "    plt.figure()\n",
        "    plt.plot(y, y_pred, '*')\n",
        "    plt.xlabel('y')\n",
        "    plt.ylabel('y_pred')\n",
        "    \n",
        "    # Calculate R2 score\n",
        "    r2 = r2_score(y, y_pred)\n",
        "    return r2"
      ],
      "metadata": {
        "id": "DVHXFCNCg-2m"
      },
      "execution_count": 99,
      "outputs": []
    },
    {
      "cell_type": "markdown",
      "source": [
        "**Special Note:**\n",
        "\n",
        "You need to model DNN using only pytorch library. In the class we modelled DNN using tensorflow.keras library.[link](https://github.com/edgarsmdn/MLCE_book/blob/main/04_DNN_VLE.ipynb) to understand how to model DNN using pytorch and also to know which libraries to import. Using this link you can also learn and are free to add **Early stopping**, change **regularizers** etc. to define your model."
      ],
      "metadata": {
        "id": "bTtaUucwYKqr"
      }
    }
  ]
}