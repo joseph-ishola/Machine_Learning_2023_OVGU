{
  "nbformat": 4,
  "nbformat_minor": 0,
  "metadata": {
    "colab": {
      "provenance": []
    },
    "kernelspec": {
      "name": "python3",
      "display_name": "Python 3"
    },
    "language_info": {
      "name": "python"
    }
  },
  "cells": [
    {
      "cell_type": "markdown",
      "metadata": {
        "id": "-b9JinxemTPw"
      },
      "source": [
        "# Task Description : \n",
        "Develop a kNN model for regression to predict the bioconcentration factor (BCF) for the given data **(see in code line 2)**. Please keep in mind the following:\n",
        "\n",
        "\n",
        "*   1 bonus point - **(functioning model)** and 1 bonus point - **(top 5 models)**.\n",
        "*   Submission Deadline is **May 12, 23:59**.\n",
        "\n",
        "**Note: Submission is not compulsory**.\n",
        "\n",
        "\n",
        "\n"
      ]
    },
    {
      "cell_type": "markdown",
      "source": [
        "*We expect you to upload only 'one' python file with name ***Bonus_Task_1_yourname*** on elearning in exactly the same format as explained below.*"
      ],
      "metadata": {
        "id": "INUiQtqDpIG1"
      }
    },
    {
      "cell_type": "code",
      "execution_count": null,
      "metadata": {
        "id": "59BJgYDfklk8"
      },
      "outputs": [],
      "source": [
        "# import all libraries  (You can import other libraries if required)\n",
        "import pandas as pd\n",
        "import matplotlib.pyplot as plt\n",
        "import seaborn as sn\n",
        "import numpy as np\n",
        "from sklearn.preprocessing import StandardScaler\n",
        "from sklearn.model_selection import train_test_split\n",
        "from sklearn.neighbors import KNeighborsRegressor\n",
        "from sklearn.metrics import mean_squared_error        # to be used for regression model\n",
        "from sklearn.metrics import r2_score \n",
        "from sklearn.model_selection import LeaveOneOut\n",
        "from tqdm.notebook import tqdm\n",
        "%matplotlib inline"
      ]
    },
    {
      "cell_type": "code",
      "source": [
        "# upload data here\n",
        "if 'google.colab' in str(get_ipython()):\n",
        "  df_bcf = pd.read_csv(\"https://raw.githubusercontent.com/edgarsmdn/MLCE_book/main/references/BCF_training.csv\")\n",
        "else:\n",
        "  df_bcf = pd.read_csv(\"references/BCF_training.csv\")\n",
        "df_bcf"
      ],
      "metadata": {
        "id": "0bOq1KP2kvlq"
      },
      "execution_count": null,
      "outputs": []
    },
    {
      "cell_type": "code",
      "source": [
        "# perform data cleaning if required and define corresponding variables for [inputs /features]  and [corresponding output (Experimental values)]"
      ],
      "metadata": {
        "id": "JsvpNwFtlgBk"
      },
      "execution_count": null,
      "outputs": []
    },
    {
      "cell_type": "code",
      "source": [
        "# do cross validation with different k values and visualize (R2_square vs k and MSE vs k) to know what k value performs best on your testing data."
      ],
      "metadata": {
        "id": "oOwPDjRKk3TC"
      },
      "execution_count": null,
      "outputs": []
    },
    {
      "cell_type": "code",
      "source": [
        "# final trained model using all the data points with your k value (Please do not calculate any performance metrics, we will do that on our own by checking performance of your model on our testing dataset)"
      ],
      "metadata": {
        "id": "ksVELFEHmzs0"
      },
      "execution_count": null,
      "outputs": []
    },
    {
      "cell_type": "markdown",
      "source": [
        "**Note:**  \n",
        "You have choice to use subset of input features or all input features for validation and training final model. You can search keywords on google like *'how to select important input features for training regression Machine Learning models'* or you can randomly try different input feature combinations as of now to see if it improves performance on test set. However we donot expect you to choose subset of input variables (as it is not taught yet). You can simply choose all the given features as inputs.\n"
      ],
      "metadata": {
        "id": "Y3CP-LwtWQ0L"
      }
    }
  ]
}