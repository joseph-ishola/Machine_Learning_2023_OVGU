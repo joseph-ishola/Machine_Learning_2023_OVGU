{
  "nbformat": 4,
  "nbformat_minor": 0,
  "metadata": {
    "colab": {
      "provenance": []
    },
    "kernelspec": {
      "name": "python3",
      "display_name": "Python 3"
    },
    "language_info": {
      "name": "python"
    }
  },
  "cells": [
    {
      "cell_type": "markdown",
      "metadata": {
        "id": "-b9JinxemTPw"
      },
      "source": [
        "# Task Description : \n",
        "Develop a kNN model for regression to predict the bioconcentration factor (BCF) for the given data **(see in code line 2)**. Please keep in mind the following:\n",
        "\n",
        "\n",
        "*   1 bonus point - **(functioning model)** and 1 bonus point - **(top 5 models)**.\n",
        "*   Submission Deadline is **May 12, 23:59**.\n",
        "\n",
        "**Note: Submission is not compulsory**.\n",
        "\n",
        "\n",
        "\n"
      ]
    },
    {
      "cell_type": "markdown",
      "source": [
        "*We expect you to upload only 'one' python file with name ***Bonus_Task_1_yourname*** on elearning in exactly the same format as explained below.*"
      ],
      "metadata": {
        "id": "INUiQtqDpIG1"
      }
    },
    {
      "cell_type": "code",
      "execution_count": 139,
      "metadata": {
        "id": "59BJgYDfklk8"
      },
      "outputs": [],
      "source": [
        "# import all libraries  (You can import other libraries if required)\n",
        "import pandas as pd\n",
        "import matplotlib.pyplot as plt\n",
        "import seaborn as sn\n",
        "import numpy as np\n",
        "from sklearn.preprocessing import StandardScaler\n",
        "from sklearn.model_selection import train_test_split\n",
        "from sklearn.model_selection import cross_val_score, KFold\n",
        "from sklearn.neighbors import KNeighborsRegressor\n",
        "from sklearn.metrics import mean_squared_error        # to be used for regression model\n",
        "from sklearn.metrics import r2_score \n",
        "from sklearn.model_selection import LeaveOneOut\n",
        "from tqdm.notebook import tqdm\n",
        "%matplotlib inline"
      ]
    },
    {
      "cell_type": "code",
      "source": [
        "# upload data here\n",
        "if 'google.colab' in str(get_ipython()):\n",
        "  df_bcf = pd.read_csv(\"https://raw.githubusercontent.com/edgarsmdn/MLCE_book/main/references/BCF_training.csv\")\n",
        "else:\n",
        "  df_bcf = pd.read_csv(\"references/BCF_training.csv\")\n",
        "  \n",
        "df_bcf.head()"
      ],
      "metadata": {
        "id": "0bOq1KP2kvlq"
      },
      "execution_count": null,
      "outputs": []
    },
    {
      "cell_type": "code",
      "source": [
        "df_bcf.dtypes"
      ],
      "metadata": {
        "id": "zVVkp24pZGlr"
      },
      "execution_count": null,
      "outputs": []
    },
    {
      "cell_type": "markdown",
      "source": [
        "**Question 1:** perform data cleaning if required and define corresponding variables for [inputs /features]  and [corresponding output (Experimental values)]"
      ],
      "metadata": {
        "id": "yfHJ96Q_2aHE"
      }
    },
    {
      "cell_type": "code",
      "source": [
        "missing_data = df_bcf.isnull()\n",
        "missing_data"
      ],
      "metadata": {
        "id": "rrMmBIDagFBR"
      },
      "execution_count": null,
      "outputs": []
    },
    {
      "cell_type": "code",
      "source": [
        "# checking for null value \n",
        "for column in missing_data.columns.tolist():\n",
        "    print(column)\n",
        "    print(missing_data[column].value_counts())\n",
        "    print(\"\")"
      ],
      "metadata": {
        "id": "l_0Z7fBxg1aL"
      },
      "execution_count": null,
      "outputs": []
    },
    {
      "cell_type": "code",
      "source": [
        "# non zero experimental values \n",
        "# non_zero_data = df_bcf[df_bcf['Experimental value [log(L/kg)]']!=0]\n",
        "# non_zero_data"
      ],
      "metadata": {
        "id": "rEPRQDAimVdL"
      },
      "execution_count": 145,
      "outputs": []
    },
    {
      "cell_type": "code",
      "source": [
        "# X = non_zero_data.drop(['CAS','SMILES','Experimental value [log(L/kg)]'],axis=1)\n",
        "# X\n",
        "X = df_bcf.drop(['CAS','SMILES','Experimental value [log(L/kg)]'],axis=1)\n",
        "X"
      ],
      "metadata": {
        "id": "enh6TXWDru-t"
      },
      "execution_count": null,
      "outputs": []
    },
    {
      "cell_type": "code",
      "source": [
        "# y = non_zero_data['Experimental value [log(L/kg)]'].to_numpy()\n",
        "# y\n",
        "y = df_bcf['Experimental value [log(L/kg)]'].to_numpy()\n",
        "y"
      ],
      "metadata": {
        "id": "YgnTm9Qssugp"
      },
      "execution_count": null,
      "outputs": []
    },
    {
      "cell_type": "code",
      "source": [
        "scaler = StandardScaler()"
      ],
      "metadata": {
        "id": "0qGM_CDouENa"
      },
      "execution_count": 148,
      "outputs": []
    },
    {
      "cell_type": "code",
      "source": [
        "scaler.fit(X)"
      ],
      "metadata": {
        "colab": {
          "base_uri": "https://localhost:8080/",
          "height": 75
        },
        "id": "7-hk3kXIuV6n",
        "outputId": "b65eff9f-bf17-449b-d5d5-e2fc9b398684"
      },
      "execution_count": 149,
      "outputs": [
        {
          "output_type": "execute_result",
          "data": {
            "text/plain": [
              "StandardScaler()"
            ],
            "text/html": [
              "<style>#sk-container-id-3 {color: black;background-color: white;}#sk-container-id-3 pre{padding: 0;}#sk-container-id-3 div.sk-toggleable {background-color: white;}#sk-container-id-3 label.sk-toggleable__label {cursor: pointer;display: block;width: 100%;margin-bottom: 0;padding: 0.3em;box-sizing: border-box;text-align: center;}#sk-container-id-3 label.sk-toggleable__label-arrow:before {content: \"▸\";float: left;margin-right: 0.25em;color: #696969;}#sk-container-id-3 label.sk-toggleable__label-arrow:hover:before {color: black;}#sk-container-id-3 div.sk-estimator:hover label.sk-toggleable__label-arrow:before {color: black;}#sk-container-id-3 div.sk-toggleable__content {max-height: 0;max-width: 0;overflow: hidden;text-align: left;background-color: #f0f8ff;}#sk-container-id-3 div.sk-toggleable__content pre {margin: 0.2em;color: black;border-radius: 0.25em;background-color: #f0f8ff;}#sk-container-id-3 input.sk-toggleable__control:checked~div.sk-toggleable__content {max-height: 200px;max-width: 100%;overflow: auto;}#sk-container-id-3 input.sk-toggleable__control:checked~label.sk-toggleable__label-arrow:before {content: \"▾\";}#sk-container-id-3 div.sk-estimator input.sk-toggleable__control:checked~label.sk-toggleable__label {background-color: #d4ebff;}#sk-container-id-3 div.sk-label input.sk-toggleable__control:checked~label.sk-toggleable__label {background-color: #d4ebff;}#sk-container-id-3 input.sk-hidden--visually {border: 0;clip: rect(1px 1px 1px 1px);clip: rect(1px, 1px, 1px, 1px);height: 1px;margin: -1px;overflow: hidden;padding: 0;position: absolute;width: 1px;}#sk-container-id-3 div.sk-estimator {font-family: monospace;background-color: #f0f8ff;border: 1px dotted black;border-radius: 0.25em;box-sizing: border-box;margin-bottom: 0.5em;}#sk-container-id-3 div.sk-estimator:hover {background-color: #d4ebff;}#sk-container-id-3 div.sk-parallel-item::after {content: \"\";width: 100%;border-bottom: 1px solid gray;flex-grow: 1;}#sk-container-id-3 div.sk-label:hover label.sk-toggleable__label {background-color: #d4ebff;}#sk-container-id-3 div.sk-serial::before {content: \"\";position: absolute;border-left: 1px solid gray;box-sizing: border-box;top: 0;bottom: 0;left: 50%;z-index: 0;}#sk-container-id-3 div.sk-serial {display: flex;flex-direction: column;align-items: center;background-color: white;padding-right: 0.2em;padding-left: 0.2em;position: relative;}#sk-container-id-3 div.sk-item {position: relative;z-index: 1;}#sk-container-id-3 div.sk-parallel {display: flex;align-items: stretch;justify-content: center;background-color: white;position: relative;}#sk-container-id-3 div.sk-item::before, #sk-container-id-3 div.sk-parallel-item::before {content: \"\";position: absolute;border-left: 1px solid gray;box-sizing: border-box;top: 0;bottom: 0;left: 50%;z-index: -1;}#sk-container-id-3 div.sk-parallel-item {display: flex;flex-direction: column;z-index: 1;position: relative;background-color: white;}#sk-container-id-3 div.sk-parallel-item:first-child::after {align-self: flex-end;width: 50%;}#sk-container-id-3 div.sk-parallel-item:last-child::after {align-self: flex-start;width: 50%;}#sk-container-id-3 div.sk-parallel-item:only-child::after {width: 0;}#sk-container-id-3 div.sk-dashed-wrapped {border: 1px dashed gray;margin: 0 0.4em 0.5em 0.4em;box-sizing: border-box;padding-bottom: 0.4em;background-color: white;}#sk-container-id-3 div.sk-label label {font-family: monospace;font-weight: bold;display: inline-block;line-height: 1.2em;}#sk-container-id-3 div.sk-label-container {text-align: center;}#sk-container-id-3 div.sk-container {/* jupyter's `normalize.less` sets `[hidden] { display: none; }` but bootstrap.min.css set `[hidden] { display: none !important; }` so we also need the `!important` here to be able to override the default hidden behavior on the sphinx rendered scikit-learn.org. See: https://github.com/scikit-learn/scikit-learn/issues/21755 */display: inline-block !important;position: relative;}#sk-container-id-3 div.sk-text-repr-fallback {display: none;}</style><div id=\"sk-container-id-3\" class=\"sk-top-container\"><div class=\"sk-text-repr-fallback\"><pre>StandardScaler()</pre><b>In a Jupyter environment, please rerun this cell to show the HTML representation or trust the notebook. <br />On GitHub, the HTML representation is unable to render, please try loading this page with nbviewer.org.</b></div><div class=\"sk-container\" hidden><div class=\"sk-item\"><div class=\"sk-estimator sk-toggleable\"><input class=\"sk-toggleable__control sk-hidden--visually\" id=\"sk-estimator-id-3\" type=\"checkbox\" checked><label for=\"sk-estimator-id-3\" class=\"sk-toggleable__label sk-toggleable__label-arrow\">StandardScaler</label><div class=\"sk-toggleable__content\"><pre>StandardScaler()</pre></div></div></div></div></div>"
            ]
          },
          "metadata": {},
          "execution_count": 149
        }
      ]
    },
    {
      "cell_type": "code",
      "source": [
        "X_scaled = scaler.transform(X)\n",
        "X_scaled"
      ],
      "metadata": {
        "id": "o819ItJYuzRp"
      },
      "execution_count": null,
      "outputs": []
    },
    {
      "cell_type": "code",
      "execution_count": 151,
      "metadata": {
        "id": "I09X-mSqCRtN"
      },
      "outputs": [],
      "source": [
        "X_train, X_test, y_train, y_test = train_test_split(X_scaled, y, test_size=0.2, random_state=0)"
      ]
    },
    {
      "cell_type": "code",
      "source": [
        "print('Training points: ', len(y_train))\n",
        "print('Training points: ', len(y_test))"
      ],
      "metadata": {
        "colab": {
          "base_uri": "https://localhost:8080/"
        },
        "id": "oSJQ4czDML9F",
        "outputId": "c3863606-9f8c-4bd9-fd5b-fd6b9e380a18"
      },
      "execution_count": 152,
      "outputs": [
        {
          "output_type": "stream",
          "name": "stdout",
          "text": [
            "Training points:  640\n",
            "Training points:  160\n"
          ]
        }
      ]
    },
    {
      "cell_type": "markdown",
      "source": [
        "**Question 2:** do cross validation with different k values and visualize (R2_square vs k and MSE vs k) to know what k value performs best on your testing data."
      ],
      "metadata": {
        "id": "qt80Uwsdj1Pf"
      }
    },
    {
      "cell_type": "code",
      "source": [
        "# create a KNeighborsRegressor model with different k\n",
        "k = 1\n",
        "knn = KNeighborsRegressor(n_neighbors=k)\n",
        "\n",
        "cross_r2 = cross_val_score(knn, X, y, cv=10)\n",
        "\n",
        "cross_mse = -1 * cross_val_score(knn, X, y, cv=10,scoring='neg_mean_squared_error')\n",
        "\n",
        "print(\"When k is\", k, \"\\n\")\n",
        "print(\"The average R-squared of the folds is\", cross_r2.mean(), \"and the standard deviation is\" , cross_r2.std(), \"\\n\")\n",
        "print(\"The average mean squared errors of the folds is\", cross_mse.mean(), \"and the standard deviation is\" , cross_mse.std())"
      ],
      "metadata": {
        "colab": {
          "base_uri": "https://localhost:8080/"
        },
        "id": "uITOzOr1T-3J",
        "outputId": "ad16ed6b-ab5a-4784-9ee2-4580eb51d8c2"
      },
      "execution_count": 172,
      "outputs": [
        {
          "output_type": "stream",
          "name": "stdout",
          "text": [
            "When k is 1 \n",
            "\n",
            "The average R-squared of the folds is 0.1364995831703454 and the standard deviation is 0.25594874813717156 \n",
            "\n",
            "The average mean squared errors of the folds is 1.2904168325 and the standard deviation is 0.2413313679762794\n"
          ]
        }
      ]
    },
    {
      "cell_type": "code",
      "source": [
        "# set the range of k values to test\n",
        "k_range = range(1, 20)\n",
        "\n",
        "# create an empty list to store the R-squared scores for each value of k\n",
        "r2_scores = []\n",
        "\n",
        "# create an empty list to store the mean squared errors for each value of k\n",
        "mse_scores = []\n",
        "\n",
        "# perform k-fold cross-validation for each value of k\n",
        "for k in k_range:\n",
        "    knn = KNeighborsRegressor(n_neighbors=k)\n",
        "    kfold = 10  #KFold(n_splits=10, shuffle=True, random_state=42)\n",
        "    r2 = cross_val_score(knn, X, y, cv=kfold, scoring='r2')\n",
        "    mse = cross_val_score(knn, X, y, cv=kfold, scoring='neg_mean_squared_error')\n",
        "    r2_scores.append(r2.mean())\n",
        "    mse_scores.append(abs(mse.mean()))\n",
        "\n",
        "# plot the results\n",
        "plt.plot(k_range, r2_scores, label='R-squared')\n",
        "plt.plot(k_range, mse_scores, label='Mean Squared Error')\n",
        "plt.xlabel('Number of Neighbors (k)')\n",
        "plt.ylabel('Score')\n",
        "plt.legend()\n",
        "plt.show()\n",
        "\n",
        "\n",
        "\n",
        "\n"
      ],
      "metadata": {
        "colab": {
          "base_uri": "https://localhost:8080/",
          "height": 449
        },
        "id": "oVcp2SBRajB3",
        "outputId": "9be7cd38-8015-4993-ca29-4ea1b07a1ceb"
      },
      "execution_count": 154,
      "outputs": [
        {
          "output_type": "display_data",
          "data": {
            "text/plain": [
              "<Figure size 640x480 with 1 Axes>"
            ],
            "image/png": "[encoded data removed]"
          },
          "metadata": {}
        }
      ]
    },
    {
      "cell_type": "markdown",
      "source": [
        "**Question 3**: final trained model using all the data points with your k value (Please do not calculate any performance metrics, we will do that on our own by checking performance of your model on our testing dataset)"
      ],
      "metadata": {
        "id": "zw9_JBOFfWqN"
      }
    },
    {
      "cell_type": "markdown",
      "source": [
        "#First approach, using the training data"
      ],
      "metadata": {
        "id": "tCyTP_ul1wP0"
      }
    },
    {
      "cell_type": "code",
      "source": [
        "# set the value of k that performed best during cross-validation\n",
        "k = 3\n",
        "\n",
        "# create a KNeighborsRegressor model with the chosen value of k\n",
        "knn = KNeighborsRegressor(n_neighbors=k)\n",
        "\n",
        "# train the model on the training data points\n",
        "knn.fit(X_train, y_train)\n",
        "\n",
        "# use the trained model to make predictions on new data (e.g. your testing dataset)\n",
        "y_pred = knn.predict(X_test)\n",
        "y_pred\n"
      ],
      "metadata": {
        "id": "6WOC66eKd9ZM"
      },
      "execution_count": null,
      "outputs": []
    },
    {
      "cell_type": "code",
      "source": [
        "mse = mean_squared_error(y_pred, y_test)\n",
        "print(\"The mean squared error between the testing data and the predicted data is \\n\",mse)"
      ],
      "metadata": {
        "colab": {
          "base_uri": "https://localhost:8080/"
        },
        "id": "2USW3wv3Iwsy",
        "outputId": "5fbc843f-db9f-4ef0-b28d-af831afe7d95"
      },
      "execution_count": 181,
      "outputs": [
        {
          "output_type": "stream",
          "name": "stdout",
          "text": [
            "The mean squared error between the testing data and the predicted data is \n",
            " 0.5691611875\n"
          ]
        }
      ]
    },
    {
      "cell_type": "code",
      "source": [
        "r2 = r2_score(y_pred, y_test)\n",
        "print(\"The R-squared between the testing data and the predicted data is \\n\",r2)"
      ],
      "metadata": {
        "colab": {
          "base_uri": "https://localhost:8080/"
        },
        "id": "I_GdZ2-lJ_T4",
        "outputId": "4a77db0b-470f-4954-835e-d52686a25aaa"
      },
      "execution_count": 182,
      "outputs": [
        {
          "output_type": "stream",
          "name": "stdout",
          "text": [
            "The R-squared between the testing data and the predicted data is \n",
            " 0.5573223492386574\n"
          ]
        }
      ]
    },
    {
      "cell_type": "code",
      "source": [
        "import matplotlib.pyplot as plt\n",
        "\n",
        "# plot the predicted values against the true values\n",
        "plt.scatter(y_test, y_pred)\n",
        "plt.xlabel('True Values')\n",
        "plt.ylabel('Predictions')\n",
        "plt.show()\n"
      ],
      "metadata": {
        "id": "hMTOpn5qhdGu",
        "colab": {
          "base_uri": "https://localhost:8080/",
          "height": 449
        },
        "outputId": "658b028c-4f90-4d34-c047-cc8dd092367e"
      },
      "execution_count": 176,
      "outputs": [
        {
          "output_type": "display_data",
          "data": {
            "text/plain": [
              "<Figure size 640x480 with 1 Axes>"
            ],
            "image/png": "[encoded data removed]"
          },
          "metadata": {}
        }
      ]
    },
    {
      "cell_type": "markdown",
      "source": [
        "#Second Approach, using all data points for training and testing"
      ],
      "metadata": {
        "id": "cBUYw0FG1oVi"
      }
    },
    {
      "cell_type": "code",
      "source": [
        "# set the value of k that performed best during cross-validation\n",
        "k = 1\n",
        "\n",
        "# create a KNeighborsRegressor model with the chosen value of k\n",
        "knn = KNeighborsRegressor(n_neighbors=k)\n",
        "\n",
        "# train the model on all the data points\n",
        "knn.fit(X, y)\n",
        "\n",
        "# use the trained model to make predictions on new data (e.g. your testing dataset)\n",
        "y_pred2 = knn.predict(X)\n",
        "y_pred2\n"
      ],
      "metadata": {
        "id": "6ZjIRqtHpT9t"
      },
      "execution_count": null,
      "outputs": []
    },
    {
      "cell_type": "code",
      "source": [
        "mse = mean_squared_error(y_pred2, y)\n",
        "print(\"The mean squared error between the testing data and the predicted data is \\n\",mse)"
      ],
      "metadata": {
        "colab": {
          "base_uri": "https://localhost:8080/"
        },
        "id": "xt7fRBZ3pTEd",
        "outputId": "cb49f8b8-0014-48da-a5d3-37f3f5b30f3d"
      },
      "execution_count": 169,
      "outputs": [
        {
          "output_type": "stream",
          "name": "stdout",
          "text": [
            "The mean squared error between the testing data and the predicted data is \n",
            " 0.0029369549999999998\n"
          ]
        }
      ]
    },
    {
      "cell_type": "code",
      "source": [
        "r2 = r2_score(y_pred2, y)\n",
        "print(\"The R-squared between the testing data and the predicted data is \\n\",r2)"
      ],
      "metadata": {
        "colab": {
          "base_uri": "https://localhost:8080/"
        },
        "id": "7Ny_Kvv_qmtO",
        "outputId": "807e2065-3cea-4ed2-a45f-cd18dea6e407"
      },
      "execution_count": 170,
      "outputs": [
        {
          "output_type": "stream",
          "name": "stdout",
          "text": [
            "The R-squared between the testing data and the predicted data is \n",
            " 0.9983480121202083\n"
          ]
        }
      ]
    },
    {
      "cell_type": "markdown",
      "source": [
        "Fitting and testing on all my data sets obviously gave a very strong data predictions with few outliers. this is obvious because it is the same datasets so the behaviour is predictatable by the model"
      ],
      "metadata": {
        "id": "XWo8ryI-zZ5c"
      }
    },
    {
      "cell_type": "code",
      "source": [
        "import matplotlib.pyplot as plt\n",
        "\n",
        "# plot the predicted values against the true values\n",
        "plt.scatter(y, y_pred2)\n",
        "plt.xlabel('True Values')\n",
        "plt.ylabel('Predictions')\n",
        "plt.show()\n"
      ],
      "metadata": {
        "id": "uv6HEhT5hoOv",
        "colab": {
          "base_uri": "https://localhost:8080/",
          "height": 452
        },
        "outputId": "89c7b06d-c965-48ba-f4cc-164ff49a4671"
      },
      "execution_count": 171,
      "outputs": [
        {
          "output_type": "display_data",
          "data": {
            "text/plain": [
              "<Figure size 640x480 with 1 Axes>"
            ],
            "image/png": "[encoded data removed]"
          },
          "metadata": {}
        }
      ]
    },
    {
      "cell_type": "markdown",
      "source": [
        "**Note:**  \n",
        "You have choice to use subset of input features or all input features for validation and training final model. You can search keywords on google like *'how to select important input features for training regression Machine Learning models'* or you can randomly try different input feature combinations as of now to see if it improves performance on test set. However we donot expect you to choose subset of input variables (as it is not taught yet). You can simply choose all the given features as inputs.\n"
      ],
      "metadata": {
        "id": "Y3CP-LwtWQ0L"
      }
    }
  ]
}